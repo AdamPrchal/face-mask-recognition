{
 "cells": [
  {
   "cell_type": "code",
   "execution_count": 6,
   "metadata": {
    "collapsed": true,
    "pycharm": {
     "name": "#%%\n"
    }
   },
   "outputs": [
    {
     "name": "stdout",
     "output_type": "stream",
     "text": [
      "Model: \"sequential_1\"\n",
      "_________________________________________________________________\n",
      " Layer (type)                Output Shape              Param #   \n",
      "=================================================================\n",
      " sequential (Sequential)     (None, 180, 180, 3)       0         \n",
      "                                                                 \n",
      " rescaling_1 (Rescaling)     (None, 180, 180, 3)       0         \n",
      "                                                                 \n",
      " conv2d (Conv2D)             (None, 180, 180, 16)      448       \n",
      "                                                                 \n",
      " max_pooling2d (MaxPooling2D  (None, 90, 90, 16)       0         \n",
      " )                                                               \n",
      "                                                                 \n",
      " conv2d_1 (Conv2D)           (None, 90, 90, 32)        4640      \n",
      "                                                                 \n",
      " max_pooling2d_1 (MaxPooling  (None, 45, 45, 32)       0         \n",
      " 2D)                                                             \n",
      "                                                                 \n",
      " conv2d_2 (Conv2D)           (None, 45, 45, 64)        18496     \n",
      "                                                                 \n",
      " max_pooling2d_2 (MaxPooling  (None, 22, 22, 64)       0         \n",
      " 2D)                                                             \n",
      "                                                                 \n",
      " dropout (Dropout)           (None, 22, 22, 64)        0         \n",
      "                                                                 \n",
      " flatten (Flatten)           (None, 30976)             0         \n",
      "                                                                 \n",
      " dense (Dense)               (None, 128)               3965056   \n",
      "                                                                 \n",
      " dense_1 (Dense)             (None, 3)                 387       \n",
      "                                                                 \n",
      "=================================================================\n",
      "Total params: 3,989,027\n",
      "Trainable params: 3,989,027\n",
      "Non-trainable params: 0\n",
      "_________________________________________________________________\n"
     ]
    }
   ],
   "source": [
    "import matplotlib.pyplot as plt\n",
    "import numpy as np\n",
    "import os\n",
    "import PIL\n",
    "import tensorflow as tf\n",
    "import pathlib\n",
    "import glob\n",
    "\n",
    "from tensorflow import keras\n",
    "from tensorflow.keras import layers\n",
    "from tensorflow.keras.models import Sequential\n",
    "\n",
    "CLASSNAMES = ['mask_weared_incorrect', 'with_mask', 'without_mask']\n",
    "\n",
    "batch_size = 32\n",
    "img_height = 180\n",
    "img_width = 180\n",
    "\n",
    "model = tf.keras.models.load_model('saved_model/my_model')\n",
    "\n",
    "# Check its architecture\n",
    "model.summary()\n",
    "\n"
   ]
  },
  {
   "cell_type": "code",
   "execution_count": 7,
   "outputs": [
    {
     "name": "stdout",
     "output_type": "stream",
     "text": [
      "./testing/4.png\n",
      "tf.Tensor([0.38116774 0.5825285  0.03630376], shape=(3,), dtype=float32)\n",
      "with_mask\n",
      "---------------------------------------\n",
      "./testing/5.jpg\n",
      "tf.Tensor([2.0735718e-02 9.7926188e-01 2.4711526e-06], shape=(3,), dtype=float32)\n",
      "with_mask\n",
      "---------------------------------------\n",
      "./testing/6.png\n",
      "tf.Tensor([0.12809786 0.05506166 0.8168404 ], shape=(3,), dtype=float32)\n",
      "without_mask\n",
      "---------------------------------------\n",
      "./testing/2.png\n",
      "tf.Tensor([0.20740433 0.68122786 0.11136782], shape=(3,), dtype=float32)\n",
      "with_mask\n",
      "---------------------------------------\n",
      "./testing/3.jpg\n",
      "tf.Tensor([0.2263903  0.14713429 0.6264754 ], shape=(3,), dtype=float32)\n",
      "without_mask\n",
      "---------------------------------------\n",
      "./testing/1.png\n",
      "tf.Tensor([1.4860712e-03 9.9851352e-01 3.8298856e-07], shape=(3,), dtype=float32)\n",
      "with_mask\n",
      "---------------------------------------\n"
     ]
    }
   ],
   "source": [
    "testing_images = glob.glob('./testing/*.*')\n",
    "\n",
    "for test_image in testing_images:\n",
    "    image_path = pathlib.Path(test_image)\n",
    "\n",
    "    img = tf.keras.utils.load_img(\n",
    "        image_path, target_size=(img_height, img_width)\n",
    "    )\n",
    "    img_array = tf.keras.utils.img_to_array(img)\n",
    "    img_array = tf.expand_dims(img_array, 0) # Create a batch\n",
    "\n",
    "    predictions = model.predict(img_array)\n",
    "    score = tf.nn.softmax(predictions[0])\n",
    "    print(test_image)\n",
    "    print(score)\n",
    "    print(CLASSNAMES[np.argmax(score)])\n",
    "    print('---------------------------------------')"
   ],
   "metadata": {
    "collapsed": false,
    "pycharm": {
     "name": "#%%\n"
    }
   }
  },
  {
   "cell_type": "code",
   "execution_count": null,
   "outputs": [],
   "source": [],
   "metadata": {
    "collapsed": false,
    "pycharm": {
     "name": "#%%\n"
    }
   }
  }
 ],
 "metadata": {
  "kernelspec": {
   "display_name": "Python 3",
   "language": "python",
   "name": "python3"
  },
  "language_info": {
   "codemirror_mode": {
    "name": "ipython",
    "version": 2
   },
   "file_extension": ".py",
   "mimetype": "text/x-python",
   "name": "python",
   "nbconvert_exporter": "python",
   "pygments_lexer": "ipython2",
   "version": "2.7.6"
  }
 },
 "nbformat": 4,
 "nbformat_minor": 0
}